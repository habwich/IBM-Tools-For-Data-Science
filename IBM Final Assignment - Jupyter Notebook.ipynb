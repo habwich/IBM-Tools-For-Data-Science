{
 "cells": [
  {
   "cell_type": "markdown",
   "metadata": {},
   "source": [
    "<center>\n",
    "    <img src=\"https://s3-api.us-geo.objectstorage.softlayer.net/cf-courses-data/CognitiveClass/Logos/organization_logo/organization_logo.png\" width=\"300\" alt=\"cognitiveclass.ai logo\"  />\n",
    "</center>\n"
   ]
  },
  {
   "cell_type": "markdown",
   "metadata": {},
   "source": [
    "#### Add your code below following the instructions given in the course\n"
   ]
  },
  {
   "cell_type": "markdown",
   "metadata": {},
   "source": [
    "# My Jupyter Notebook on IBM Watson Studio"
   ]
  },
  {
   "cell_type": "markdown",
   "metadata": {},
   "source": [
    "__Name: Evan Habrukowich__<br>\n",
    "Occupation: Data Analyst"
   ]
  },
  {
   "cell_type": "markdown",
   "metadata": {},
   "source": [
    "_\"I am interested in Data Science because I work exclusively with data at work.<br>However, to be honest I know I am capable of doing so much more;<br>As I enjoy the joy of solving problems with programming.\"_ - Evan Habrukowich"
   ]
  },
  {
   "cell_type": "markdown",
   "metadata": {},
   "source": [
    "### Hi Everyone,<br><br>The following Python code is very simple and incredibly useful.<br><br>Let's try to import or load the AWS Redshift Connector Python library.<br><br>If for whatever reason the Python library is not installed, let's execute a shell command _!pip install_ to download and install the Python library.<br><br>Lastly, let's execute a shell command _!pip list_ and we should see the new Python library added."
   ]
  },
  {
   "cell_type": "code",
   "execution_count": null,
   "metadata": {},
   "outputs": [],
   "source": [
    "# let's see if a AWS redshift-connector Python library is installed.\n",
    "# if it is not installed or present in the !pip list shell command,\n",
    "#let's go ahead download the Python library using !pip install shell command.\n",
    "try:\n",
    "    import redshift_connector\n",
    "    print(\"Success: AWS Python library imported.\")\n",
    "    \n",
    "except ImportError:\n",
    "    print(\"Error: AWS Python libaray is NOT installed.\")\n",
    "    !pip install redshift-connector\n",
    "    import redshift_connector\n",
    "    print(\"Success: AWS Python library imported.\")\n",
    "\n",
    "# let's show the list of Python libaries again to see if the Python \n",
    "# AWS redshift-connector is installed.\n",
    "print(\"Here is a list of all the Python libaries installed in this Jupyter notebook.\", end='\\n\\n')\n",
    "!pip list"
   ]
  },
  {
   "cell_type": "markdown",
   "metadata": {},
   "source": [
    "| IBM Data Science Courses to Complete | \n",
    "| :----------------------------------- |\n",
    "| 1. ~What is Data Science?~ |\n",
    "| 2. Tools for Data Science |\n",
    "| 3. Data Science Methodology |\n",
    "| 4. Data Analysis with Python |\n",
    "| 5. Data Visualization with Python |\n",
    "| 6. Databases and SQL for Data Science with Python |\n",
    "| 7. Machine Learning with Python |\n",
    "| 8. Python for Data Science, AI & Development |\n",
    "| 9. Python Project for Data Science |\n",
    "| 10. Applied Data Science Capstone |\n"
   ]
  }
 ],
 "metadata": {
  "kernelspec": {
   "display_name": "Python",
   "language": "python",
   "name": "conda-env-python-py"
  },
  "language_info": {
   "codemirror_mode": {
    "name": "ipython",
    "version": 3
   },
   "file_extension": ".py",
   "mimetype": "text/x-python",
   "name": "python",
   "nbconvert_exporter": "python",
   "pygments_lexer": "ipython3",
   "version": "3.7.12"
  }
 },
 "nbformat": 4,
 "nbformat_minor": 4
}
